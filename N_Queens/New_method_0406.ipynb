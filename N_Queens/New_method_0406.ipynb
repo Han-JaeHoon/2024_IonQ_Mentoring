{
  "cells": [
    {
      "cell_type": "code",
      "source": [
        "# For Google Colab use commands installing packages\n",
        "try:\n",
        "  import google.colab\n",
        "  IN_COLAB = True\n",
        "except:\n",
        "  IN_COLAB = False\n",
        "\n",
        "# Install Pennylane and Pylatexenc in Google Colab\n",
        "if IN_COLAB:\n",
        "  !pip install pennylane pennylane-qiskit\n",
        "  !pip install pylatexenc #for using MPL"
      ],
      "metadata": {
        "colab": {
          "base_uri": "https://localhost:8080/"
        },
        "id": "OxiDgCREj5h_",
        "outputId": "ddd6118a-db9c-493a-896c-0e513ac85589"
      },
      "execution_count": 1,
      "outputs": [
        {
          "output_type": "stream",
          "name": "stdout",
          "text": [
            "Collecting pennylane\n",
            "  Downloading PennyLane-0.35.1-py3-none-any.whl (1.6 MB)\n",
            "\u001b[2K     \u001b[90m━━━━━━━━━━━━━━━━━━━━━━━━━━━━━━━━━━━━━━━━\u001b[0m \u001b[32m1.6/1.6 MB\u001b[0m \u001b[31m6.3 MB/s\u001b[0m eta \u001b[36m0:00:00\u001b[0m\n",
            "\u001b[?25hCollecting pennylane-qiskit\n",
            "  Downloading PennyLane_qiskit-0.35.1-py3-none-any.whl (37 kB)\n",
            "Requirement already satisfied: numpy in /usr/local/lib/python3.10/dist-packages (from pennylane) (1.25.2)\n",
            "Requirement already satisfied: scipy in /usr/local/lib/python3.10/dist-packages (from pennylane) (1.11.4)\n",
            "Requirement already satisfied: networkx in /usr/local/lib/python3.10/dist-packages (from pennylane) (3.2.1)\n",
            "Collecting rustworkx (from pennylane)\n",
            "  Downloading rustworkx-0.14.2-cp310-cp310-manylinux_2_17_x86_64.manylinux2014_x86_64.whl (2.1 MB)\n",
            "\u001b[2K     \u001b[90m━━━━━━━━━━━━━━━━━━━━━━━━━━━━━━━━━━━━━━━━\u001b[0m \u001b[32m2.1/2.1 MB\u001b[0m \u001b[31m27.0 MB/s\u001b[0m eta \u001b[36m0:00:00\u001b[0m\n",
            "\u001b[?25hRequirement already satisfied: autograd in /usr/local/lib/python3.10/dist-packages (from pennylane) (1.6.2)\n",
            "Requirement already satisfied: toml in /usr/local/lib/python3.10/dist-packages (from pennylane) (0.10.2)\n",
            "Requirement already satisfied: appdirs in /usr/local/lib/python3.10/dist-packages (from pennylane) (1.4.4)\n",
            "Collecting semantic-version>=2.7 (from pennylane)\n",
            "  Downloading semantic_version-2.10.0-py2.py3-none-any.whl (15 kB)\n",
            "Collecting autoray>=0.6.1 (from pennylane)\n",
            "  Downloading autoray-0.6.9-py3-none-any.whl (49 kB)\n",
            "\u001b[2K     \u001b[90m━━━━━━━━━━━━━━━━━━━━━━━━━━━━━━━━━━━━━━━━\u001b[0m \u001b[32m49.8/49.8 kB\u001b[0m \u001b[31m3.7 MB/s\u001b[0m eta \u001b[36m0:00:00\u001b[0m\n",
            "\u001b[?25hRequirement already satisfied: cachetools in /usr/local/lib/python3.10/dist-packages (from pennylane) (5.3.3)\n",
            "Collecting pennylane-lightning>=0.35 (from pennylane)\n",
            "  Downloading PennyLane_Lightning-0.35.1-cp310-cp310-manylinux_2_17_x86_64.manylinux2014_x86_64.whl (18.5 MB)\n",
            "\u001b[2K     \u001b[90m━━━━━━━━━━━━━━━━━━━━━━━━━━━━━━━━━━━━━━━━\u001b[0m \u001b[32m18.5/18.5 MB\u001b[0m \u001b[31m22.9 MB/s\u001b[0m eta \u001b[36m0:00:00\u001b[0m\n",
            "\u001b[?25hRequirement already satisfied: requests in /usr/local/lib/python3.10/dist-packages (from pennylane) (2.31.0)\n",
            "Requirement already satisfied: typing-extensions in /usr/local/lib/python3.10/dist-packages (from pennylane) (4.10.0)\n",
            "Collecting qiskit>=0.32 (from pennylane-qiskit)\n",
            "  Downloading qiskit-1.0.2-cp38-abi3-manylinux_2_17_x86_64.manylinux2014_x86_64.whl (5.6 MB)\n",
            "\u001b[2K     \u001b[90m━━━━━━━━━━━━━━━━━━━━━━━━━━━━━━━━━━━━━━━━\u001b[0m \u001b[32m5.6/5.6 MB\u001b[0m \u001b[31m41.0 MB/s\u001b[0m eta \u001b[36m0:00:00\u001b[0m\n",
            "\u001b[?25hCollecting qiskit-aer (from pennylane-qiskit)\n",
            "  Downloading qiskit_aer-0.14.0.1-cp310-cp310-manylinux_2_17_x86_64.manylinux2014_x86_64.whl (12.4 MB)\n",
            "\u001b[2K     \u001b[90m━━━━━━━━━━━━━━━━━━━━━━━━━━━━━━━━━━━━━━━━\u001b[0m \u001b[32m12.4/12.4 MB\u001b[0m \u001b[31m37.6 MB/s\u001b[0m eta \u001b[36m0:00:00\u001b[0m\n",
            "\u001b[?25hCollecting qiskit-ibm-runtime<0.21 (from pennylane-qiskit)\n",
            "  Downloading qiskit_ibm_runtime-0.20.0-py3-none-any.whl (1.8 MB)\n",
            "\u001b[2K     \u001b[90m━━━━━━━━━━━━━━━━━━━━━━━━━━━━━━━━━━━━━━━━\u001b[0m \u001b[32m1.8/1.8 MB\u001b[0m \u001b[31m30.8 MB/s\u001b[0m eta \u001b[36m0:00:00\u001b[0m\n",
            "\u001b[?25hCollecting qiskit-ibm-provider (from pennylane-qiskit)\n",
            "  Downloading qiskit_ibm_provider-0.10.0-py3-none-any.whl (249 kB)\n",
            "\u001b[2K     \u001b[90m━━━━━━━━━━━━━━━━━━━━━━━━━━━━━━━━━━━━━━━━\u001b[0m \u001b[32m249.6/249.6 kB\u001b[0m \u001b[31m15.0 MB/s\u001b[0m eta \u001b[36m0:00:00\u001b[0m\n",
            "\u001b[?25hRequirement already satisfied: sympy>=1.3 in /usr/local/lib/python3.10/dist-packages (from qiskit>=0.32->pennylane-qiskit) (1.12)\n",
            "Collecting dill>=0.3 (from qiskit>=0.32->pennylane-qiskit)\n",
            "  Downloading dill-0.3.8-py3-none-any.whl (116 kB)\n",
            "\u001b[2K     \u001b[90m━━━━━━━━━━━━━━━━━━━━━━━━━━━━━━━━━━━━━━━━\u001b[0m \u001b[32m116.3/116.3 kB\u001b[0m \u001b[31m9.2 MB/s\u001b[0m eta \u001b[36m0:00:00\u001b[0m\n",
            "\u001b[?25hRequirement already satisfied: python-dateutil>=2.8.0 in /usr/local/lib/python3.10/dist-packages (from qiskit>=0.32->pennylane-qiskit) (2.8.2)\n",
            "Collecting stevedore>=3.0.0 (from qiskit>=0.32->pennylane-qiskit)\n",
            "  Downloading stevedore-5.2.0-py3-none-any.whl (49 kB)\n",
            "\u001b[2K     \u001b[90m━━━━━━━━━━━━━━━━━━━━━━━━━━━━━━━━━━━━━━━━\u001b[0m \u001b[32m49.7/49.7 kB\u001b[0m \u001b[31m2.9 MB/s\u001b[0m eta \u001b[36m0:00:00\u001b[0m\n",
            "\u001b[?25hCollecting symengine>=0.11 (from qiskit>=0.32->pennylane-qiskit)\n",
            "  Downloading symengine-0.11.0-cp310-cp310-manylinux_2_12_x86_64.manylinux2010_x86_64.whl (39.4 MB)\n",
            "\u001b[2K     \u001b[90m━━━━━━━━━━━━━━━━━━━━━━━━━━━━━━━━━━━━━━━━\u001b[0m \u001b[32m39.4/39.4 MB\u001b[0m \u001b[31m9.8 MB/s\u001b[0m eta \u001b[36m0:00:00\u001b[0m\n",
            "\u001b[?25hCollecting requests-ntlm>=1.1.0 (from qiskit-ibm-runtime<0.21->pennylane-qiskit)\n",
            "  Downloading requests_ntlm-1.2.0-py3-none-any.whl (6.0 kB)\n",
            "Requirement already satisfied: urllib3>=1.21.1 in /usr/local/lib/python3.10/dist-packages (from qiskit-ibm-runtime<0.21->pennylane-qiskit) (2.0.7)\n",
            "Requirement already satisfied: websocket-client>=1.5.1 in /usr/local/lib/python3.10/dist-packages (from qiskit-ibm-runtime<0.21->pennylane-qiskit) (1.7.0)\n",
            "Collecting ibm-platform-services>=0.22.6 (from qiskit-ibm-runtime<0.21->pennylane-qiskit)\n",
            "  Downloading ibm-platform-services-0.53.2.tar.gz (318 kB)\n",
            "\u001b[2K     \u001b[90m━━━━━━━━━━━━━━━━━━━━━━━━━━━━━━━━━━━━━━━━\u001b[0m \u001b[32m318.0/318.0 kB\u001b[0m \u001b[31m19.2 MB/s\u001b[0m eta \u001b[36m0:00:00\u001b[0m\n",
            "\u001b[?25h  Installing build dependencies ... \u001b[?25l\u001b[?25hdone\n",
            "  Getting requirements to build wheel ... \u001b[?25l\u001b[?25hdone\n",
            "  Preparing metadata (pyproject.toml) ... \u001b[?25l\u001b[?25hdone\n",
            "Requirement already satisfied: charset-normalizer<4,>=2 in /usr/local/lib/python3.10/dist-packages (from requests->pennylane) (3.3.2)\n",
            "Requirement already satisfied: idna<4,>=2.5 in /usr/local/lib/python3.10/dist-packages (from requests->pennylane) (3.6)\n",
            "Requirement already satisfied: certifi>=2017.4.17 in /usr/local/lib/python3.10/dist-packages (from requests->pennylane) (2024.2.2)\n",
            "Requirement already satisfied: future>=0.15.2 in /usr/local/lib/python3.10/dist-packages (from autograd->pennylane) (0.18.3)\n",
            "Requirement already satisfied: psutil>=5 in /usr/local/lib/python3.10/dist-packages (from qiskit-aer->pennylane-qiskit) (5.9.5)\n",
            "Collecting websockets>=10.0 (from qiskit-ibm-provider->pennylane-qiskit)\n",
            "  Downloading websockets-12.0-cp310-cp310-manylinux_2_5_x86_64.manylinux1_x86_64.manylinux_2_17_x86_64.manylinux2014_x86_64.whl (130 kB)\n",
            "\u001b[2K     \u001b[90m━━━━━━━━━━━━━━━━━━━━━━━━━━━━━━━━━━━━━━━━\u001b[0m \u001b[32m130.2/130.2 kB\u001b[0m \u001b[31m15.2 MB/s\u001b[0m eta \u001b[36m0:00:00\u001b[0m\n",
            "\u001b[?25hCollecting ibm-cloud-sdk-core<4.0.0,>=3.19.2 (from ibm-platform-services>=0.22.6->qiskit-ibm-runtime<0.21->pennylane-qiskit)\n",
            "  Downloading ibm-cloud-sdk-core-3.19.2.tar.gz (61 kB)\n",
            "\u001b[2K     \u001b[90m━━━━━━━━━━━━━━━━━━━━━━━━━━━━━━━━━━━━━━━━\u001b[0m \u001b[32m62.0/62.0 kB\u001b[0m \u001b[31m7.2 MB/s\u001b[0m eta \u001b[36m0:00:00\u001b[0m\n",
            "\u001b[?25h  Installing build dependencies ... \u001b[?25l\u001b[?25hdone\n",
            "  Getting requirements to build wheel ... \u001b[?25l\u001b[?25hdone\n",
            "  Preparing metadata (pyproject.toml) ... \u001b[?25l\u001b[?25hdone\n",
            "Requirement already satisfied: six>=1.5 in /usr/local/lib/python3.10/dist-packages (from python-dateutil>=2.8.0->qiskit>=0.32->pennylane-qiskit) (1.16.0)\n",
            "Requirement already satisfied: cryptography>=1.3 in /usr/local/lib/python3.10/dist-packages (from requests-ntlm>=1.1.0->qiskit-ibm-runtime<0.21->pennylane-qiskit) (42.0.5)\n",
            "Collecting pyspnego>=0.1.6 (from requests-ntlm>=1.1.0->qiskit-ibm-runtime<0.21->pennylane-qiskit)\n",
            "  Downloading pyspnego-0.10.2-py3-none-any.whl (129 kB)\n",
            "\u001b[2K     \u001b[90m━━━━━━━━━━━━━━━━━━━━━━━━━━━━━━━━━━━━━━━━\u001b[0m \u001b[32m129.9/129.9 kB\u001b[0m \u001b[31m14.6 MB/s\u001b[0m eta \u001b[36m0:00:00\u001b[0m\n",
            "\u001b[?25hCollecting pbr!=2.1.0,>=2.0.0 (from stevedore>=3.0.0->qiskit>=0.32->pennylane-qiskit)\n",
            "  Downloading pbr-6.0.0-py2.py3-none-any.whl (107 kB)\n",
            "\u001b[2K     \u001b[90m━━━━━━━━━━━━━━━━━━━━━━━━━━━━━━━━━━━━━━━━\u001b[0m \u001b[32m107.5/107.5 kB\u001b[0m \u001b[31m10.7 MB/s\u001b[0m eta \u001b[36m0:00:00\u001b[0m\n",
            "\u001b[?25hRequirement already satisfied: mpmath>=0.19 in /usr/local/lib/python3.10/dist-packages (from sympy>=1.3->qiskit>=0.32->pennylane-qiskit) (1.3.0)\n",
            "Requirement already satisfied: cffi>=1.12 in /usr/local/lib/python3.10/dist-packages (from cryptography>=1.3->requests-ntlm>=1.1.0->qiskit-ibm-runtime<0.21->pennylane-qiskit) (1.16.0)\n",
            "Collecting urllib3>=1.21.1 (from qiskit-ibm-runtime<0.21->pennylane-qiskit)\n",
            "  Downloading urllib3-2.2.1-py3-none-any.whl (121 kB)\n",
            "\u001b[2K     \u001b[90m━━━━━━━━━━━━━━━━━━━━━━━━━━━━━━━━━━━━━━━━\u001b[0m \u001b[32m121.1/121.1 kB\u001b[0m \u001b[31m15.3 MB/s\u001b[0m eta \u001b[36m0:00:00\u001b[0m\n",
            "\u001b[?25hCollecting PyJWT<3.0.0,>=2.8.0 (from ibm-cloud-sdk-core<4.0.0,>=3.19.2->ibm-platform-services>=0.22.6->qiskit-ibm-runtime<0.21->pennylane-qiskit)\n",
            "  Downloading PyJWT-2.8.0-py3-none-any.whl (22 kB)\n",
            "Requirement already satisfied: pycparser in /usr/local/lib/python3.10/dist-packages (from cffi>=1.12->cryptography>=1.3->requests-ntlm>=1.1.0->qiskit-ibm-runtime<0.21->pennylane-qiskit) (2.22)\n",
            "Building wheels for collected packages: ibm-platform-services, ibm-cloud-sdk-core\n",
            "  Building wheel for ibm-platform-services (pyproject.toml) ... \u001b[?25l\u001b[?25hdone\n",
            "  Created wheel for ibm-platform-services: filename=ibm_platform_services-0.53.2-py3-none-any.whl size=333970 sha256=ced2b8dcc3f5a11c8b61673945b37c3913ef02e301068ea9e4c0c0eac9675859\n",
            "  Stored in directory: /root/.cache/pip/wheels/9b/ad/11/c59945ca0d5d34da7156493772d4ee722f6454fd56269b49bb\n",
            "  Building wheel for ibm-cloud-sdk-core (pyproject.toml) ... \u001b[?25l\u001b[?25hdone\n",
            "  Created wheel for ibm-cloud-sdk-core: filename=ibm_cloud_sdk_core-3.19.2-py3-none-any.whl size=98827 sha256=9e5e9035d54d7bfc4bee6e7adc910e780a3a98153effcd5c0ec79fb10420a0fa\n",
            "  Stored in directory: /root/.cache/pip/wheels/90/05/db/f544eb28b85089bf6cf29cb9e30f56b471bf59d56a46c92519\n",
            "Successfully built ibm-platform-services ibm-cloud-sdk-core\n",
            "Installing collected packages: websockets, urllib3, symengine, semantic-version, rustworkx, PyJWT, pbr, dill, autoray, stevedore, qiskit, pyspnego, ibm-cloud-sdk-core, requests-ntlm, qiskit-aer, ibm-platform-services, qiskit-ibm-runtime, qiskit-ibm-provider, pennylane-lightning, pennylane, pennylane-qiskit\n",
            "  Attempting uninstall: urllib3\n",
            "    Found existing installation: urllib3 2.0.7\n",
            "    Uninstalling urllib3-2.0.7:\n",
            "      Successfully uninstalled urllib3-2.0.7\n",
            "  Attempting uninstall: PyJWT\n",
            "    Found existing installation: PyJWT 2.3.0\n",
            "    Uninstalling PyJWT-2.3.0:\n",
            "      Successfully uninstalled PyJWT-2.3.0\n",
            "Successfully installed PyJWT-2.8.0 autoray-0.6.9 dill-0.3.8 ibm-cloud-sdk-core-3.19.2 ibm-platform-services-0.53.2 pbr-6.0.0 pennylane-0.35.1 pennylane-lightning-0.35.1 pennylane-qiskit-0.35.1 pyspnego-0.10.2 qiskit-1.0.2 qiskit-aer-0.14.0.1 qiskit-ibm-provider-0.10.0 qiskit-ibm-runtime-0.20.0 requests-ntlm-1.2.0 rustworkx-0.14.2 semantic-version-2.10.0 stevedore-5.2.0 symengine-0.11.0 urllib3-2.2.1 websockets-12.0\n",
            "Collecting pylatexenc\n",
            "  Downloading pylatexenc-2.10.tar.gz (162 kB)\n",
            "\u001b[2K     \u001b[90m━━━━━━━━━━━━━━━━━━━━━━━━━━━━━━━━━━━━━━━━\u001b[0m \u001b[32m162.6/162.6 kB\u001b[0m \u001b[31m1.5 MB/s\u001b[0m eta \u001b[36m0:00:00\u001b[0m\n",
            "\u001b[?25h  Preparing metadata (setup.py) ... \u001b[?25l\u001b[?25hdone\n",
            "Building wheels for collected packages: pylatexenc\n",
            "  Building wheel for pylatexenc (setup.py) ... \u001b[?25l\u001b[?25hdone\n",
            "  Created wheel for pylatexenc: filename=pylatexenc-2.10-py3-none-any.whl size=136816 sha256=895c5ae4945e432a1f1dce32906106e5d1c505de19092c8979c4f71c5adf3e75\n",
            "  Stored in directory: /root/.cache/pip/wheels/d3/31/8b/e09b0386afd80cfc556c00408c9aeea5c35c4d484a9c762fd5\n",
            "Successfully built pylatexenc\n",
            "Installing collected packages: pylatexenc\n",
            "Successfully installed pylatexenc-2.10\n"
          ]
        }
      ]
    },
    {
      "cell_type": "markdown",
      "metadata": {
        "id": "scl-w52Kb5M7"
      },
      "source": [
        "# **2024-01-18** N-Queens with VQA\n",
        "\n",
        "## 1 Idea\n",
        "\n",
        "## 2 Code"
      ]
    },
    {
      "cell_type": "code",
      "execution_count": 2,
      "metadata": {
        "id": "qip0xFUkb5NA"
      },
      "outputs": [],
      "source": [
        "import pennylane as qml\n",
        "# from pennylane import numpy as np\n",
        "import numpy as np\n",
        "import torch\n",
        "from torch import optim\n",
        "from torch import tensor\n",
        "\n",
        "from collections import defaultdict\n",
        "import networkx as nx\n",
        "import copy\n",
        "import math\n",
        "from itertools import combinations\n",
        "import sys"
      ]
    },
    {
      "cell_type": "markdown",
      "source": [
        "### Tests"
      ],
      "metadata": {
        "id": "MPBEzxqjPjnp"
      }
    },
    {
      "cell_type": "code",
      "source": [
        "n = 2"
      ],
      "metadata": {
        "id": "cwcmI1pZRRp8"
      },
      "execution_count": null,
      "outputs": []
    },
    {
      "cell_type": "code",
      "source": [
        "test_dev = qml.device(\"default.qubit\", wires = n)\n",
        "\n",
        "def my_measure(n, wires = []):\n",
        "  if wires == []:\n",
        "    wires = list(range(n))\n",
        "  measure_result = [qml.measure(i, reset=True) for i in range(n)]\n",
        "  for i in range(n):\n",
        "    qml.cond(measure_result[i], qml.PauliX)(i)\n",
        "  return\n",
        "\n",
        "@qml.qnode(test_dev)\n",
        "def test_circuit():\n",
        "  qml.RX(np. pi / 2, 0)\n",
        "  return qml.expval(qml.PauliZ(0))"
      ],
      "metadata": {
        "id": "Y5P_FwU3Q08j"
      },
      "execution_count": null,
      "outputs": []
    },
    {
      "cell_type": "code",
      "source": [
        "result = test_circuit()\n",
        "print(result, type(result))\n",
        "result"
      ],
      "metadata": {
        "colab": {
          "base_uri": "https://localhost:8080/"
        },
        "id": "HE1Fnd6JRaoe",
        "outputId": "e59e2a2a-e7ab-4535-9430-20ea9f611eeb"
      },
      "execution_count": null,
      "outputs": [
        {
          "output_type": "stream",
          "name": "stdout",
          "text": [
            "2.220446049250313e-16 <class 'pennylane.numpy.tensor.tensor'>\n"
          ]
        },
        {
          "output_type": "execute_result",
          "data": {
            "text/plain": [
              "tensor(2.22044605e-16, requires_grad=True)"
            ]
          },
          "metadata": {},
          "execution_count": 214
        }
      ]
    },
    {
      "cell_type": "code",
      "source": [
        "qml.draw_mpl(test_circuit)()"
      ],
      "metadata": {
        "colab": {
          "base_uri": "https://localhost:8080/"
        },
        "id": "AlEJVPHzb4wk",
        "outputId": "1ab45865-fcd4-4762-9abe-d53d4e0d9857"
      },
      "execution_count": null,
      "outputs": [
        {
          "output_type": "execute_result",
          "data": {
            "text/plain": [
              "(<Figure size 1100x400 with 1 Axes>, <Axes: >)"
            ]
          },
          "metadata": {},
          "execution_count": 175
        },
        {
          "output_type": "display_data",
          "data": {
            "text/plain": [
              "<Figure size 1100x400 with 1 Axes>"
            ],
            "image/png": "[encoded data removed]"
          },
          "metadata": {}
        }
      ]
    },
    {
      "cell_type": "markdown",
      "metadata": {
        "id": "1O1LKdcRb5NC"
      },
      "source": [
        "### Functions"
      ]
    },
    {
      "cell_type": "markdown",
      "metadata": {
        "id": "i_0GOhV2b5ND"
      },
      "source": [
        "### Chess Class"
      ]
    },
    {
      "cell_type": "code",
      "execution_count": 4,
      "metadata": {
        "id": "zsdO8x1K-YUU"
      },
      "outputs": [],
      "source": [
        "class Chess:\n",
        "  def __init__(self, size = 4, horses = []):\n",
        "    '''\n",
        "      Args :\n",
        "        size(int) : size of Chess Board\n",
        "        horses(list[list[int]]) : indexes(row, col) of placed horses, Not Duplicated with Same Row or Column\n",
        "    '''\n",
        "    is_nonempty = defaultdict(int)\n",
        "    self.board = [[0 for _ in range(size)] for _ in range(size)]\n",
        "    self.horses = horses\n",
        "    self.size = size\n",
        "    for h in horses:\n",
        "      self.board[h[0]][h[1]] = 1\n",
        "      is_nonempty[h[0]] += 1\n",
        "    self.empty_rows = []\n",
        "    self.nonempty_rows = []\n",
        "    for i in range(size):\n",
        "      if is_nonempty[i] == 1:\n",
        "        self.nonempty_rows.append(i)\n",
        "      else:\n",
        "        self.empty_rows.append(i)\n",
        "\n",
        "  def set_horses(self, new_horses):\n",
        "    self.horses = self.horses + new_horses\n",
        "    horses = self.horses\n",
        "    size = self.size\n",
        "    is_nonempty = defaultdict(int)\n",
        "    for h in horses:\n",
        "      self.board[h[0]][h[1]] = 1\n",
        "      is_nonempty[h[0]] += 1\n",
        "    self.empty_rows = []\n",
        "    self.nonempty_rows = []\n",
        "    for i in range(size):\n",
        "      if is_nonempty[i] == 1:\n",
        "        self.nonempty_rows.append(i)\n",
        "      else:\n",
        "        self.empty_rows.append(i)\n",
        "\n",
        "  def draw(self):\n",
        "    boxes = ['□', '◆']\n",
        "    for row_board in self.board:\n",
        "      for b in row_board:\n",
        "        print(boxes[b], end ='')\n",
        "      print()\n",
        "\n"
      ]
    },
    {
      "cell_type": "markdown",
      "metadata": {
        "id": "M0q3NH2Tb5ND"
      },
      "source": [
        "### Settings"
      ]
    },
    {
      "cell_type": "code",
      "execution_count": 62,
      "metadata": {
        "colab": {
          "base_uri": "https://localhost:8080/"
        },
        "id": "d6d9vyMWI9s9",
        "outputId": "bff95a43-136f-49a4-8a5c-896cf2e9fbf8"
      },
      "outputs": [
        {
          "output_type": "stream",
          "name": "stdout",
          "text": [
            "□◆□□\n",
            "□□□□\n",
            "□□□□\n",
            "□□□□\n"
          ]
        },
        {
          "output_type": "execute_result",
          "data": {
            "text/plain": [
              "([1, 2, 3], [0])"
            ]
          },
          "metadata": {},
          "execution_count": 62
        }
      ],
      "source": [
        "## Make Chess Board ##\n",
        "C1 = Chess(4, [[0, 1]])\n",
        "C1.draw()\n",
        "C1.empty_rows, C1.nonempty_rows"
      ]
    },
    {
      "cell_type": "code",
      "execution_count": 63,
      "metadata": {
        "colab": {
          "base_uri": "https://localhost:8080/"
        },
        "id": "udNVvBGSb5ND",
        "outputId": "94b14498-6ed7-41bb-c2e1-684470ab2887"
      },
      "outputs": [
        {
          "output_type": "stream",
          "name": "stdout",
          "text": [
            "n : 4\n",
            "num of w : 36\n",
            "[4.085397   0.8130016  3.178837   1.0887264  2.5332007  1.2035424\n",
            " 5.4876513  0.33086312 2.8488529  1.0105084  3.5110004  2.7067976\n",
            " 0.25521868 4.355459   3.3880656  0.78632396 3.9566305  4.6905956\n",
            " 3.8463569  0.78407353 0.9421987  4.0914116  0.4198853  0.7308276\n",
            " 5.4163003  5.408892   3.5030587  4.6543508  4.4662294  1.99379\n",
            " 1.5368521  1.994659   2.0974596  3.7496476  5.109635   2.3326294 ]\n",
            "(36,)\n",
            "[1, 2, 3]\n"
          ]
        },
        {
          "output_type": "stream",
          "name": "stderr",
          "text": [
            "<ipython-input-63-9e51184570d5>:12: UserWarning: To copy construct from a tensor, it is recommended to use sourceTensor.clone().detach() or sourceTensor.clone().detach().requires_grad_(True), rather than torch.tensor(sourceTensor).\n",
            "  w = torch.tensor(torch.rand(num_of_layers * required_weights) * 2 * np.pi, requires_grad = True)\n"
          ]
        }
      ],
      "source": [
        "## Prepare to ML ##\n",
        "board_size = C1.size\n",
        "n = board_size\n",
        "empty_rows = C1.empty_rows\n",
        "required_weights = 3 * int(np.ceil(np.log2(board_size))) * len(empty_rows) # 3 : Rx,Ry,Rz, (np.ceil(np.log2(board_size))) : 한 row를 표현하는 qubit 개수, len(empty_rows) : 필요한 행의 개수\n",
        "required_for_row = int(np.ceil(np.log2(n)))\n",
        "required_wires = len(empty_rows) * required_for_row # int(np.ceil(np.log2(n)))\n",
        "num_of_layers = 2\n",
        "\n",
        "## Prepare to Quantum Device ##\n",
        "dev = qml.device(\"default.qubit\", wires = required_wires) #device 설정\n",
        "w = torch.tensor(torch.rand(num_of_layers * required_weights) * 2 * np.pi, requires_grad = True)\n",
        "N_iter = 1000\n",
        "\n",
        "### print for test ##\n",
        "print('n :', n)\n",
        "print('num of w :', len(w))\n",
        "print(w.detach().numpy())\n",
        "print(np.shape(w.detach().numpy()))\n",
        "print(empty_rows)"
      ]
    },
    {
      "cell_type": "markdown",
      "source": [
        "### Quantum Circuits"
      ],
      "metadata": {
        "id": "k7wDS1MZr7I9"
      }
    },
    {
      "cell_type": "code",
      "execution_count": 64,
      "metadata": {
        "id": "6uL4EX5lb5NF"
      },
      "outputs": [],
      "source": [
        "#VQA Layer(Ansatz) building\n",
        "def vqa_layer(thetas = w, size = board_size, empty_rows = empty_rows, n_layer = num_of_layers): #Ansatz\n",
        "    th_count = 0\n",
        "    n = board_size\n",
        "    for i in range(n_layer):\n",
        "      for j in range(required_wires):\n",
        "        qml.RX(thetas[th_count], j)\n",
        "        th_count += 1\n",
        "        qml.RY(thetas[th_count], j)\n",
        "        th_count += 1\n",
        "        qml.RZ(thetas[th_count], j)\n",
        "        th_count += 1\n",
        "      for j in range(required_wires):\n",
        "        qml.CNOT([j, (j+1) % required_wires])"
      ]
    },
    {
      "cell_type": "code",
      "source": [
        "#get state vector\n",
        "@qml.qnode(dev, interface = 'torch')\n",
        "def state_vec(thetas = w, board = C1, n_layer = num_of_layers):\n",
        "  vqa_layer() #Ansatz Apply\n",
        "  return qml.probs()"
      ],
      "metadata": {
        "id": "NWahWFevQzYs"
      },
      "execution_count": 65,
      "outputs": []
    },
    {
      "cell_type": "code",
      "execution_count": 66,
      "metadata": {
        "id": "W0jUG3ffRo0z",
        "colab": {
          "base_uri": "https://localhost:8080/"
        },
        "outputId": "2c3aa4fe-0083-40e5-855e-3a9829bb2944"
      },
      "outputs": [
        {
          "output_type": "execute_result",
          "data": {
            "text/plain": [
              "[tensor(0.3294, dtype=torch.float64, grad_fn=<DotBackward0>),\n",
              " tensor(-0.1499, dtype=torch.float64, grad_fn=<DotBackward0>),\n",
              " tensor(0.1460, dtype=torch.float64, grad_fn=<DotBackward0>),\n",
              " tensor(0.2377, dtype=torch.float64, grad_fn=<DotBackward0>),\n",
              " tensor(0.2937, dtype=torch.float64, grad_fn=<DotBackward0>),\n",
              " tensor(-0.3472, dtype=torch.float64, grad_fn=<DotBackward0>)]"
            ]
          },
          "metadata": {},
          "execution_count": 66
        }
      ],
      "source": [
        "@qml.qnode(dev, interface='torch')\n",
        "def main_circuit(thetas = w, board = C1, n_layer = num_of_layers):\n",
        "  vqa_layer() #Ansatz Apply\n",
        "  m_result = [qml.expval(qml.PauliZ(i)) for i in range(required_wires)]\n",
        "  return m_result\n",
        "\n",
        "main_circuit_result = main_circuit(thetas = w, board = C1, n_layer = num_of_layers)\n",
        "main_circuit_result"
      ]
    },
    {
      "cell_type": "markdown",
      "metadata": {
        "id": "EstJhDHzb5NE"
      },
      "source": [
        "### Cost Functions"
      ]
    },
    {
      "cell_type": "code",
      "source": [
        "def name1(main_result, chess):\n",
        "    # print(main_result)\n",
        "    prepared_result = torch.stack(main_result, dim=0).reshape(-1,required_for_row) / 2 + 0.5\n",
        "    # print(prepared_result)\n",
        "    prepare = torch.tensor(chess.board[0])\n",
        "    for a,b in prepared_result:\n",
        "        prepare = torch.vstack((prepare , torch.stack([ torch.abs((a)*(b)), torch.abs((a)*(1-b)), torch.abs((1-a)*(b)), torch.abs((1-a)*(1-b))])))\n",
        "    return prepare\n",
        "\n",
        "name1(main_circuit_result, C1)"
      ],
      "metadata": {
        "colab": {
          "base_uri": "https://localhost:8080/"
        },
        "id": "YEonlUyzAaHG",
        "outputId": "5d751c38-0b5b-4389-cf50-6e61180b4887"
      },
      "execution_count": 67,
      "outputs": [
        {
          "output_type": "execute_result",
          "data": {
            "text/plain": [
              "tensor([[0.0000, 1.0000, 0.0000, 0.0000],\n",
              "        [0.2825, 0.3822, 0.1425, 0.1928],\n",
              "        [0.3546, 0.2184, 0.2642, 0.1628],\n",
              "        [0.2111, 0.4357, 0.1153, 0.2379]], dtype=torch.float64,\n",
              "       grad_fn=<CatBackward0>)"
            ]
          },
          "metadata": {},
          "execution_count": 67
        }
      ]
    },
    {
      "cell_type": "code",
      "source": [
        "size = 4\n",
        "def cost_fn(main_result, empty_rows, chess):\n",
        "    size = chess.size\n",
        "    ham = 0\n",
        "\n",
        "    result = name1(main_result, chess)\n",
        "    # print(result)\n",
        "\n",
        "    for i in empty_rows:\n",
        "        ham += (torch.sum(result[i]) - 1) * (torch.sum(result[i]) - 1)\n",
        "    for i in range(size):\n",
        "        ham += (torch.sum(result.T[i]) - 1) * (torch.sum(result.T[i]) - 1)\n",
        "\n",
        "\n",
        "    for i in range(2*size-3): # 대각선 개수 2*size -1 -2(대각선 요소 1개인 것)\n",
        "        diag1 = torch.diagonal(result,i-2)\n",
        "        diag2 = torch.diagonal(torch.flip(result,[-1]),i-2)\n",
        "        ham += torch.abs((torch.sum(diag1)) * (torch.sum(diag1)-1))\n",
        "        ham += torch.abs((torch.sum(diag2)) * (torch.sum(diag2)-1))\n",
        "    return ham\n",
        "\n",
        "test_data = [torch.Tensor([e]) for e in [-1.0, -1.0, 1.0, 1.0, -1.0, 1.0]] ## [11, 00, 10]\n",
        "print(test_data)\n",
        "cost_fn(test_data, empty_rows, C1)\n",
        "# print(main_circuit_result)\n",
        "# cost_fn(main_circuit_result, empty_rows, C1)"
      ],
      "metadata": {
        "id": "C-3DPOAGie9M",
        "colab": {
          "base_uri": "https://localhost:8080/"
        },
        "outputId": "932b370f-b2c9-4951-b7a9-9733703a9d87"
      },
      "execution_count": 70,
      "outputs": [
        {
          "output_type": "stream",
          "name": "stdout",
          "text": [
            "[tensor([-1.]), tensor([-1.]), tensor([1.]), tensor([1.]), tensor([-1.]), tensor([1.])]\n"
          ]
        },
        {
          "output_type": "execute_result",
          "data": {
            "text/plain": [
              "tensor(0.)"
            ]
          },
          "metadata": {},
          "execution_count": 70
        }
      ]
    },
    {
      "cell_type": "markdown",
      "metadata": {
        "id": "stObdTPjb5NF"
      },
      "source": [
        "### Circuit check"
      ]
    },
    {
      "cell_type": "code",
      "execution_count": 71,
      "metadata": {
        "colab": {
          "base_uri": "https://localhost:8080/",
          "height": 260
        },
        "id": "NyEmwlllb5NG",
        "outputId": "90ed5268-7442-49a1-c89c-7a92c4e4b2ff"
      },
      "outputs": [
        {
          "output_type": "stream",
          "name": "stdout",
          "text": [
            "(<Figure size 2100x700 with 1 Axes>, <Axes: >)\n"
          ]
        },
        {
          "output_type": "display_data",
          "data": {
            "text/plain": [
              "<Figure size 2100x700 with 1 Axes>"
            ],
            "image/png": "[encoded data removed]"
          },
          "metadata": {}
        }
      ],
      "source": [
        "print(qml.draw_mpl(state_vec)())"
      ]
    },
    {
      "cell_type": "markdown",
      "metadata": {
        "id": "5VeweXVwb5NG"
      },
      "source": [
        "### Optimizing"
      ]
    },
    {
      "cell_type": "code",
      "execution_count": 72,
      "metadata": {
        "id": "bIinF2wub5NG"
      },
      "outputs": [],
      "source": [
        "loss = []\n",
        "\n",
        "optimizer = optim.Adam([w], lr = 0.1) #optim.SGD([w], lr = 0.05, momentum = 1) #lr : learning rate, SGD : gradient descent\n",
        "\n",
        "for iter in range(N_iter):\n",
        "    # cost function\n",
        "    # cost = my_cost(w, C1, num_of_layers)#main_circuit(w,C1,num_of_layers)\n",
        "    cost = cost_fn(main_circuit(thetas = w, board = C1, n_layer = num_of_layers), empty_rows, C1)\n",
        "    loss.append(float(cost))\n",
        "    # Optimizing step\n",
        "    # print(cost, type(cost))\n",
        "    optimizer.zero_grad() # gradient 초기화\n",
        "    cost.backward() # gradient 계산\n",
        "    optimizer.step() # 함수 개선"
      ]
    },
    {
      "cell_type": "markdown",
      "metadata": {
        "id": "rGJvn4XVb5NH"
      },
      "source": [
        "### Result check"
      ]
    },
    {
      "cell_type": "code",
      "source": [
        "import matplotlib.pyplot as plt\n",
        "\n",
        "plt.plot(np.arange(1,N_iter+1),loss)\n",
        "plt.xlabel('N_iter')\n",
        "plt.ylabel('Loss')\n",
        "plt.show()"
      ],
      "metadata": {
        "colab": {
          "base_uri": "https://localhost:8080/",
          "height": 450
        },
        "id": "EEcEBjhO0ZEM",
        "outputId": "103ed4af-03a2-43af-a749-298a6ad8a93f"
      },
      "execution_count": 73,
      "outputs": [
        {
          "output_type": "display_data",
          "data": {
            "text/plain": [
              "<Figure size 640x480 with 1 Axes>"
            ],
            "image/png": "[encoded data removed]"
          },
          "metadata": {}
        }
      ]
    },
    {
      "cell_type": "code",
      "source": [
        "# after optimization\n",
        "main_circuit_result = main_circuit(thetas = w, board = C1, n_layer = num_of_layers)\n",
        "print(name1(main_circuit_result, C1))"
      ],
      "metadata": {
        "colab": {
          "base_uri": "https://localhost:8080/"
        },
        "id": "IOTufSVt8ZsA",
        "outputId": "36db7d27-74ce-44a9-8556-4d39b2eca814"
      },
      "execution_count": 74,
      "outputs": [
        {
          "output_type": "stream",
          "name": "stdout",
          "text": [
            "tensor([[0.0000e+00, 1.0000e+00, 0.0000e+00, 0.0000e+00],\n",
            "        [5.3154e-14, 2.3055e-07, 2.3055e-07, 1.0000e+00],\n",
            "        [9.9999e-01, 9.2847e-06, 2.3055e-07, 2.1406e-12],\n",
            "        [2.3055e-07, 2.3224e-13, 1.0000e+00, 1.0073e-06]], dtype=torch.float64,\n",
            "       grad_fn=<CatBackward0>)\n"
          ]
        }
      ]
    },
    {
      "cell_type": "code",
      "execution_count": 61,
      "metadata": {
        "colab": {
          "base_uri": "https://localhost:8080/",
          "height": 221
        },
        "id": "aB-qeOqjb5NH",
        "outputId": "e76c8d0f-4ff7-4788-ce53-9442c0dc0f5c"
      },
      "outputs": [
        {
          "output_type": "error",
          "ename": "NameError",
          "evalue": "name 'probs_to_str' is not defined",
          "traceback": [
            "\u001b[0;31m---------------------------------------------------------------------------\u001b[0m",
            "\u001b[0;31mNameError\u001b[0m                                 Traceback (most recent call last)",
            "\u001b[0;32m<ipython-input-61-12542a9f7ba1>\u001b[0m in \u001b[0;36m<cell line: 1>\u001b[0;34m()\u001b[0m\n\u001b[0;32m----> 1\u001b[0;31m \u001b[0mresult_state\u001b[0m \u001b[0;34m=\u001b[0m \u001b[0mprobs_to_str\u001b[0m\u001b[0;34m(\u001b[0m\u001b[0;34m)\u001b[0m\u001b[0;34m\u001b[0m\u001b[0;34m\u001b[0m\u001b[0m\n\u001b[0m\u001b[1;32m      2\u001b[0m \u001b[0mprint\u001b[0m\u001b[0;34m(\u001b[0m\u001b[0mresult_state\u001b[0m\u001b[0;34m)\u001b[0m\u001b[0;34m\u001b[0m\u001b[0;34m\u001b[0m\u001b[0m\n\u001b[1;32m      3\u001b[0m \u001b[0mresult_index\u001b[0m \u001b[0;34m=\u001b[0m \u001b[0mstr_to_indexes\u001b[0m\u001b[0;34m(\u001b[0m\u001b[0mresult_state\u001b[0m\u001b[0;34m)\u001b[0m \u001b[0;34m+\u001b[0m \u001b[0;34m[\u001b[0m\u001b[0mc\u001b[0m\u001b[0;34m[\u001b[0m\u001b[0;36m0\u001b[0m\u001b[0;34m]\u001b[0m \u001b[0;34m*\u001b[0m \u001b[0mn\u001b[0m \u001b[0;34m+\u001b[0m \u001b[0mc\u001b[0m\u001b[0;34m[\u001b[0m\u001b[0;36m1\u001b[0m\u001b[0;34m]\u001b[0m \u001b[0;32mfor\u001b[0m \u001b[0mc\u001b[0m \u001b[0;32min\u001b[0m \u001b[0mC1\u001b[0m\u001b[0;34m.\u001b[0m\u001b[0mhorses\u001b[0m\u001b[0;34m]\u001b[0m\u001b[0;34m\u001b[0m\u001b[0;34m\u001b[0m\u001b[0m\n\u001b[1;32m      4\u001b[0m \u001b[0mprint\u001b[0m\u001b[0;34m(\u001b[0m\u001b[0mresult_index\u001b[0m\u001b[0;34m)\u001b[0m\u001b[0;34m\u001b[0m\u001b[0;34m\u001b[0m\u001b[0m\n\u001b[1;32m      5\u001b[0m \u001b[0mresult_horses\u001b[0m \u001b[0;34m=\u001b[0m \u001b[0;34m[\u001b[0m\u001b[0;34m[\u001b[0m\u001b[0me\u001b[0m \u001b[0;34m//\u001b[0m \u001b[0mn\u001b[0m\u001b[0;34m,\u001b[0m \u001b[0me\u001b[0m \u001b[0;34m%\u001b[0m \u001b[0mn\u001b[0m\u001b[0;34m]\u001b[0m \u001b[0;32mfor\u001b[0m \u001b[0me\u001b[0m \u001b[0;32min\u001b[0m \u001b[0mresult_index\u001b[0m\u001b[0;34m]\u001b[0m\u001b[0;34m\u001b[0m\u001b[0;34m\u001b[0m\u001b[0m\n",
            "\u001b[0;31mNameError\u001b[0m: name 'probs_to_str' is not defined"
          ]
        }
      ],
      "source": [
        "result_state = probs_to_str()\n",
        "print(result_state)\n",
        "result_index = str_to_indexes(result_state) + [c[0] * n + c[1] for c in C1.horses]\n",
        "print(result_index)\n",
        "result_horses = [[e // n, e % n] for e in result_index]\n",
        "C2 = Chess(4, result_horses)\n",
        "\n",
        "print(classical_cost_f(result_index))\n",
        "\n",
        "print(result_horses)\n",
        "C2.draw()"
      ]
    },
    {
      "cell_type": "markdown",
      "metadata": {
        "id": "mhK8iK_KIqoy"
      },
      "source": [
        "## Result Chk"
      ]
    },
    {
      "cell_type": "code",
      "execution_count": null,
      "metadata": {
        "colab": {
          "base_uri": "https://localhost:8080/"
        },
        "id": "iRvqoBq6FWIV",
        "outputId": "18b70d6a-2a45-40c2-fa65-bee592ac295a"
      },
      "outputs": [
        {
          "output_type": "stream",
          "name": "stdout",
          "text": [
            "[('100001000011000', 0.6200044296810338), ('100001000010001', 0.2062962210384992)]\n"
          ]
        }
      ],
      "source": [
        "result.sort(key = lambda x:x[1])\n",
        "result = result [::-1]\n",
        "print(result)"
      ]
    },
    {
      "cell_type": "code",
      "execution_count": null,
      "metadata": {
        "colab": {
          "base_uri": "https://localhost:8080/"
        },
        "id": "iVTzOhwtb5NH",
        "outputId": "6377dc0d-8849-448a-8f6f-ee8e33d9c3e7"
      },
      "outputs": [
        {
          "output_type": "stream",
          "name": "stdout",
          "text": [
            "===========================\n",
            "□◆□□\n",
            "□□◆□\n",
            "◆□□□\n",
            "□□◆□\n",
            "===========================\n"
          ]
        }
      ],
      "source": [
        "def answer(result : dict):\n",
        "    n = C1.size\n",
        "    for e in result:\n",
        "      print('===========================')\n",
        "      ans = int(e)#[0])\n",
        "      coordinates = []\n",
        "      cnt = n * n - 1\n",
        "      while cnt >= 0:\n",
        "        if ans % 10 == 1:\n",
        "          coordinates.append([cnt // n, cnt % n])\n",
        "        cnt -= 1\n",
        "        ans //= 10\n",
        "      tempC = Chess(n, coordinates)\n",
        "      tempC.draw()\n",
        "      print('===========================')\n",
        "\n",
        "    '''\n",
        "    for ans in result:\n",
        "      temp_board  = [[0 for _ in range(n) for _ in range(n)]]\n",
        "      cnt = n ** 2 - 1\n",
        "      while cnt > 0:\n",
        "        i, j = cnt // n, cnt % n\n",
        "        temp_board[i][j] = ans % 10\n",
        "        ans //= 10\n",
        "        cnt -= 1\n",
        "    '''\n",
        "    return\n",
        "\n",
        "answer(result)"
      ]
    }
  ],
  "metadata": {
    "colab": {
      "provenance": [],
      "collapsed_sections": [
        "MPBEzxqjPjnp",
        "M0q3NH2Tb5ND"
      ]
    },
    "kernelspec": {
      "display_name": "penny_torch",
      "language": "python",
      "name": "python3"
    },
    "language_info": {
      "codemirror_mode": {
        "name": "ipython",
        "version": 3
      },
      "file_extension": ".py",
      "mimetype": "text/x-python",
      "name": "python",
      "nbconvert_exporter": "python",
      "pygments_lexer": "ipython3",
      "version": "3.11.3"
    }
  },
  "nbformat": 4,
  "nbformat_minor": 0
}
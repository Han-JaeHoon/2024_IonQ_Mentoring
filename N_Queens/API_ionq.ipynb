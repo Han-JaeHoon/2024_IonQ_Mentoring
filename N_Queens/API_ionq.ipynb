{
 "cells": [
  {
   "cell_type": "markdown",
   "metadata": {},
   "source": [
    "### 아래의 주소로 들어가서 API key를 받기 그 후 아래 코드와 같이 실행하기\n",
    "API key 받고 잊어먹으면 기존 key 지우고 다시 발급 받아야함"
   ]
  },
  {
   "cell_type": "markdown",
   "metadata": {},
   "source": [
    "https://docs.ionq.com/user-manual/projects"
   ]
  },
  {
   "cell_type": "code",
   "execution_count": 1,
   "metadata": {},
   "outputs": [],
   "source": [
    "# os path에 api key가 있는 경우 있음 \n",
    "import os \n",
    "os.getenv('IONQ_API_KEY')"
   ]
  },
  {
   "cell_type": "markdown",
   "metadata": {},
   "source": [
    "### apply bell state"
   ]
  },
  {
   "cell_type": "code",
   "execution_count": 1,
   "metadata": {},
   "outputs": [],
   "source": [
    "import collections\n",
    "import pennylane as qml\n",
    "from pennylane_ionq import ops, QPUDevice, SimulatorDevice #QPUDevice : 실제 큐비트 백엔드 ,SimulatorDevice : 시뮬레이션 백엔드\n",
    "API_KEY = \"1M2CfwlG0uQPCJCNulP2rGYd9JTlXLbS\""
   ]
  },
  {
   "cell_type": "code",
   "execution_count": 2,
   "metadata": {},
   "outputs": [],
   "source": [
    "dev = SimulatorDevice( wires=2, shots=1000,api_key=API_KEY)"
   ]
  },
  {
   "cell_type": "code",
   "execution_count": 3,
   "metadata": {},
   "outputs": [],
   "source": [
    "@qml.qnode(dev)\n",
    "def circuit():\n",
    "    qml.Hadamard(wires=0)\n",
    "    qml.CNOT(wires=[0, 1])\n",
    "    return qml.probs(wires=[0, 1])"
   ]
  },
  {
   "cell_type": "code",
   "execution_count": 4,
   "metadata": {},
   "outputs": [
    {
     "name": "stdout",
     "output_type": "stream",
     "text": [
      "Counter({0: 0.5, 3: 0.5, 1: 0.0, 2: 0.0})\n"
     ]
    }
   ],
   "source": [
    "results = collections.Counter(dict(enumerate(circuit().tolist())))\n",
    "print(results)"
   ]
  },
  {
   "cell_type": "code",
   "execution_count": 5,
   "metadata": {},
   "outputs": [
    {
     "name": "stdout",
     "output_type": "stream",
     "text": [
      "     ┌───┐     ┌─┐   \n",
      "q_0: ┤ H ├──■──┤M├───\n",
      "     └───┘┌─┴─┐└╥┘┌─┐\n",
      "q_1: ─────┤ X ├─╫─┤M├\n",
      "          └───┘ ║ └╥┘\n",
      "c: 2/═══════════╩══╩═\n",
      "                0  1 \n"
     ]
    }
   ],
   "source": [
    "from qiskit import QuantumCircuit\n",
    "# Create a basic Bell State.\n",
    "qc = QuantumCircuit(2, 2) # 2 qubits, 2 bits\n",
    "qc.h(0)\n",
    "qc.cx(0, 1)\n",
    "\n",
    "# Measure and put the result into the two bits.\n",
    "qc.measure([0, 1], [0, 1])\n",
    "\n",
    "# Display circuit.\n",
    "print(qc)"
   ]
  },
  {
   "cell_type": "code",
   "execution_count": 12,
   "metadata": {},
   "outputs": [],
   "source": [
    "# qiskit은 실제 백엔드 쓰는거니 결과 안나옴;;, simulator 함수 안 알아봄\n",
    "from qiskit_ionq import IonQProvider\n",
    "API_KEY = \"1M2CfwlG0uQPCJCNulP2rGYd9JTlXLbS\"\n",
    "provider = IonQProvider(API_KEY)\n",
    "qpu = provider.get_backend(\"ionq_qpu\")"
   ]
  },
  {
   "cell_type": "code",
   "execution_count": null,
   "metadata": {},
   "outputs": [],
   "source": [
    "from qiskit.providers.jobstatus import JobStatus\n",
    "import time\n",
    "# Submit the job for execution.\n",
    "qpu_job = qpu.run(qc, shots=1000)\n",
    "\n",
    "# Check if the job is done.\n",
    "while qpu_job.status() is not JobStatus.DONE:\n",
    "    print(\"Job status is\", qpu_job.status() )\n",
    "    time.sleep(60)\n",
    "\n",
    "# Grab a coffee! This can take up to a few minutes.\n",
    "print(\"Job status is\", qpu_job.status() )\n",
    "print(qpu_job.get_counts())"
   ]
  }
 ],
 "metadata": {
  "kernelspec": {
   "display_name": "Python 3",
   "language": "python",
   "name": "python3"
  },
  "language_info": {
   "codemirror_mode": {
    "name": "ipython",
    "version": 3
   },
   "file_extension": ".py",
   "mimetype": "text/x-python",
   "name": "python",
   "nbconvert_exporter": "python",
   "pygments_lexer": "ipython3",
   "version": "3.12.1"
  }
 },
 "nbformat": 4,
 "nbformat_minor": 2
}

{
 "cells": [
  {
   "cell_type": "code",
   "execution_count": 110,
   "metadata": {},
   "outputs": [],
   "source": [
    "import pennylane as qml\n",
    "import numpy as np\n",
    "import torch\n",
    "from torch import optim\n",
    "from collections import defaultdict\n",
    "import networkx as nx\n",
    "import copy\n",
    "import math\n",
    "from itertools import combinations\n",
    "import sys\n",
    "from pennylane_ionq import SimulatorDevice\n",
    "API_KEY = \"1M2CfwlG0uQPCJCNulP2rGYd9JTlXLbS\""
   ]
  },
  {
   "cell_type": "code",
   "execution_count": 111,
   "metadata": {},
   "outputs": [],
   "source": [
    "class Chess:\n",
    "  def __init__(self, size = 4, horses = []):\n",
    "    '''\n",
    "      Args :\n",
    "        size(int) : size of Chess Board\n",
    "        horses(list[list[int]]) : indexes(row, col) of placed horses, Not Duplicated with Same Row or Column\n",
    "    '''\n",
    "    is_nonempty = defaultdict(int)\n",
    "    self.board = [[0 for _ in range(size)] for _ in range(size)]\n",
    "    self.horses = horses\n",
    "    self.size = size\n",
    "    for h in horses:\n",
    "      self.board[h[0]][h[1]] = 1\n",
    "      is_nonempty[h[0]] += 1\n",
    "    self.empty_rows = []\n",
    "    self.nonempty_rows = []\n",
    "    for i in range(size):\n",
    "      if is_nonempty[i] == 1:\n",
    "        self.nonempty_rows.append(i)\n",
    "      else:\n",
    "        self.empty_rows.append(i)\n",
    "\n",
    "  def set_horses(self, new_horses):\n",
    "    self.horses = self.horses + new_horses\n",
    "    horses = self.horses\n",
    "    size = self.size\n",
    "    is_nonempty = defaultdict(int)\n",
    "    for h in horses:\n",
    "      self.board[h[0]][h[1]] = 1\n",
    "      is_nonempty[h[0]] += 1\n",
    "    self.empty_rows = []\n",
    "    self.nonempty_rows = []\n",
    "    for i in range(size):\n",
    "      if is_nonempty[i] == 1:\n",
    "        self.nonempty_rows.append(i)\n",
    "      else:\n",
    "        self.empty_rows.append(i)\n",
    "\n",
    "\n",
    "\n",
    "  def draw(self):\n",
    "    boxes = ['□', '◆']\n",
    "    for row_board in self.board:\n",
    "      for b in row_board:\n",
    "        print(boxes[b], end ='')\n",
    "      print()"
   ]
  },
  {
   "cell_type": "code",
   "execution_count": 112,
   "metadata": {},
   "outputs": [],
   "source": [
    "C1 = Chess(4, [[0, 1]]) "
   ]
  },
  {
   "cell_type": "code",
   "execution_count": 136,
   "metadata": {},
   "outputs": [
    {
     "name": "stderr",
     "output_type": "stream",
     "text": [
      "C:\\Users\\wlsgu\\AppData\\Local\\Temp\\ipykernel_12008\\3352730697.py:9: UserWarning: To copy construct from a tensor, it is recommended to use sourceTensor.clone().detach() or sourceTensor.clone().detach().requires_grad_(True), rather than torch.tensor(sourceTensor).\n",
      "  w = torch.tensor(torch.rand(num_of_layers * required_isingXY) * 2 * np.pi, requires_grad = True)\n"
     ]
    }
   ],
   "source": [
    "# 필요 변수값 설정\n",
    "board_size = C1.size\n",
    "empty_rows = C1.empty_rows\n",
    "required_isingXY = board_size * len(empty_rows)\n",
    "num_of_layers = 4\n",
    "\n",
    "#dev = SimulatorDevice(wires= board_size * board_size,shots=10000,api_key=API_KEY) #simulation device 설정\n",
    "dev = qml.device(\"defait.qubit\",wires= board_size * board_size) #device 설정\n",
    "\n",
    "\n",
    "wires= board_size * board_size\n",
    "w = torch.tensor(torch.rand(num_of_layers * required_isingXY) * 2 * np.pi, requires_grad = True)\n",
    "N_iter = 1000"
   ]
  },
  {
   "cell_type": "code",
   "execution_count": 114,
   "metadata": {},
   "outputs": [
    {
     "name": "stdout",
     "output_type": "stream",
     "text": [
      "0.75\n"
     ]
    }
   ],
   "source": [
    "C1 = Chess(4, [[0, 1]])\n",
    "A = np.array(C1.board).T\n",
    "B = np.flip(A)\n",
    "ham = 0\n",
    "n = C1.size\n",
    "for i in range(n):\n",
    "    ham += pow(np.sum(A[i])-1,2)/n\n",
    "    \n",
    "for i in range(2*n-3):\n",
    "    diag1 = np.diag(A,i-(n-2))\n",
    "    diag2 = np.diag(B,i-(n-2))\n",
    "    ham += np.sum(diag1)*(np.sum(diag1)-1)/(2*n-3)\n",
    "    ham += np.sum(diag2)*(np.sum(diag2)-1)/(2*n-3)\n",
    "print(ham)"
   ]
  },
  {
   "cell_type": "code",
   "execution_count": 117,
   "metadata": {},
   "outputs": [],
   "source": [
    "def cost_f(new_board,C = C1):\n",
    "    \n",
    "  board = torch.tensor(new_board).numpy().reshape(4,4)\n",
    "  ham = 0\n",
    "  n = C.size\n",
    "  A = np.array(board).T\n",
    "  B = np.flip(A)\n",
    "  B = B[::-1]\n",
    "\n",
    "  # 세로 확인 \n",
    "  for i in range(n):\n",
    "    ham += pow(np.sum(A[i])-1,2)/n\n",
    "    \n",
    "  # 대각 확인\n",
    "  for i in range(2*n-3):\n",
    "    diag1 = np.diag(A,i-(n-2))\n",
    "    diag2 = np.diag(B,i-(n-2))\n",
    "    ham += np.sum(diag1)*(np.sum(diag1)-1)/(2*n-3)\n",
    "    ham += np.sum(diag2)*(np.sum(diag2)-1)/(2*n-3)\n",
    "  return torch.tensor(ham,requires_grad=True)"
   ]
  },
  {
   "cell_type": "code",
   "execution_count": 118,
   "metadata": {},
   "outputs": [],
   "source": [
    "#VQA Layer building\n",
    "def vqa_layer(thetas = w, size = board_size, empty_rows = empty_rows, n_layer = num_of_layers): #Ansatz\n",
    "    th_count = 0\n",
    "    n = board_size\n",
    "    for i in range(n_layer):\n",
    "        for e in empty_rows:\n",
    "            pivot = n * e # qubit 번호 구하기, board의 가로세로 사이즈 * row 번호\n",
    "            for j in range(n):\n",
    "                qml.IsingXY(thetas[th_count], wires = [pivot + ( (0 - j) % n ), pivot + ( (0 - j - 1) % n )])\n",
    "                th_count += 1"
   ]
  },
  {
   "cell_type": "code",
   "execution_count": 119,
   "metadata": {},
   "outputs": [],
   "source": [
    "@qml.qnode(dev, interface='torch')\n",
    "def main_circuit(thetas = w, board = C1, n_layer = num_of_layers):\n",
    "  n = C1.size\n",
    "  empty_rows = C1.empty_rows\n",
    "  horses = C1.horses\n",
    "  for h in horses:\n",
    "    qml.PauliX(h[0] * n + h[1])\n",
    "  for e in empty_rows:\n",
    "    qml.PauliX(e * n)\n",
    "  vqa_layer() #Ansatz Apply\n",
    "  \n",
    "  # return qml.probs()\n",
    "  new_board = []\n",
    "  for i in range(n*n):\n",
    "      new_board.append(qml.expval(qml.PauliZ(i)))\n",
    "  return new_board\n",
    "  pass"
   ]
  },
  {
   "cell_type": "code",
   "execution_count": 137,
   "metadata": {},
   "outputs": [],
   "source": [
    "optimizer = optim.SGD([w],lr=0.05,momentum=1) #lr : learning rate, SGD : gradient descent\n",
    "for iter in range(N_iter):\n",
    "    #cost function\n",
    "    cost = cost_f(main_circuit(w,C1,num_of_layers),C1)\n",
    "    #Optimizing step\n",
    "    optimizer.zero_grad() #gradient 초기화\n",
    "    cost.backward() #gradient 계산\n",
    "    optimizer.step() #함수 개선"
   ]
  },
  {
   "cell_type": "code",
   "execution_count": 138,
   "metadata": {},
   "outputs": [],
   "source": [
    "@qml.qnode(dev, interface='torch')\n",
    "def state_vec(thetas = w, board = C1, n_layer = num_of_layers):\n",
    "  n = C1.size\n",
    "  empty_rows = C1.empty_rows\n",
    "  horses = C1.horses\n",
    "  for h in horses:\n",
    "    qml.PauliX(h[0] * n + h[1])\n",
    "  for e in empty_rows:\n",
    "    qml.PauliX(e * n)\n",
    "  vqa_layer()\n",
    "  return qml.state()"
   ]
  },
  {
   "cell_type": "code",
   "execution_count": 139,
   "metadata": {},
   "outputs": [
    {
     "name": "stderr",
     "output_type": "stream",
     "text": [
      "c:\\Users\\wlsgu\\AppData\\Local\\Programs\\Python\\Python312\\Lib\\site-packages\\pennylane\\_qubit_device.py:653: UserWarning: Requested state or density matrix with finite shots; the returned state information is analytic and is unaffected by sampling. To silence this warning, set shots=None on the device.\n",
      "  warnings.warn(\n"
     ]
    },
    {
     "ename": "QuantumFunctionError",
     "evalue": "The current device is not capable of returning the state",
     "output_type": "error",
     "traceback": [
      "\u001b[1;31m---------------------------------------------------------------------------\u001b[0m",
      "\u001b[1;31mQuantumFunctionError\u001b[0m                      Traceback (most recent call last)",
      "Cell \u001b[1;32mIn[139], line 3\u001b[0m\n\u001b[0;32m      1\u001b[0m expect_E \u001b[38;5;241m=\u001b[39m main_circuit(w,C1,num_of_layers)\n\u001b[0;32m      2\u001b[0m expect_E \u001b[38;5;241m=\u001b[39m np\u001b[38;5;241m.\u001b[39msum(torch\u001b[38;5;241m.\u001b[39mtensor(expect_E)\u001b[38;5;241m.\u001b[39mnumpy())\n\u001b[1;32m----> 3\u001b[0m state_f \u001b[38;5;241m=\u001b[39m \u001b[43mstate_vec\u001b[49m\u001b[43m(\u001b[49m\u001b[43m)\u001b[49m\n\u001b[0;32m      4\u001b[0m ans\u001b[38;5;241m=\u001b[39m\u001b[38;5;241m0\u001b[39m\n\u001b[0;32m      5\u001b[0m result \u001b[38;5;241m=\u001b[39m []\n",
      "File \u001b[1;32mc:\\Users\\wlsgu\\AppData\\Local\\Programs\\Python\\Python312\\Lib\\site-packages\\pennylane\\qnode.py:1039\u001b[0m, in \u001b[0;36mQNode.__call__\u001b[1;34m(self, *args, **kwargs)\u001b[0m\n\u001b[0;32m   1034\u001b[0m         full_transform_program\u001b[38;5;241m.\u001b[39m_set_all_argnums(\n\u001b[0;32m   1035\u001b[0m             \u001b[38;5;28mself\u001b[39m, args, kwargs, argnums\n\u001b[0;32m   1036\u001b[0m         )  \u001b[38;5;66;03m# pylint: disable=protected-access\u001b[39;00m\n\u001b[0;32m   1038\u001b[0m \u001b[38;5;66;03m# pylint: disable=unexpected-keyword-arg\u001b[39;00m\n\u001b[1;32m-> 1039\u001b[0m res \u001b[38;5;241m=\u001b[39m \u001b[43mqml\u001b[49m\u001b[38;5;241;43m.\u001b[39;49m\u001b[43mexecute\u001b[49m\u001b[43m(\u001b[49m\n\u001b[0;32m   1040\u001b[0m \u001b[43m    \u001b[49m\u001b[43m(\u001b[49m\u001b[38;5;28;43mself\u001b[39;49m\u001b[38;5;241;43m.\u001b[39;49m\u001b[43m_tape\u001b[49m\u001b[43m,\u001b[49m\u001b[43m)\u001b[49m\u001b[43m,\u001b[49m\n\u001b[0;32m   1041\u001b[0m \u001b[43m    \u001b[49m\u001b[43mdevice\u001b[49m\u001b[38;5;241;43m=\u001b[39;49m\u001b[38;5;28;43mself\u001b[39;49m\u001b[38;5;241;43m.\u001b[39;49m\u001b[43mdevice\u001b[49m\u001b[43m,\u001b[49m\n\u001b[0;32m   1042\u001b[0m \u001b[43m    \u001b[49m\u001b[43mgradient_fn\u001b[49m\u001b[38;5;241;43m=\u001b[39;49m\u001b[38;5;28;43mself\u001b[39;49m\u001b[38;5;241;43m.\u001b[39;49m\u001b[43mgradient_fn\u001b[49m\u001b[43m,\u001b[49m\n\u001b[0;32m   1043\u001b[0m \u001b[43m    \u001b[49m\u001b[43minterface\u001b[49m\u001b[38;5;241;43m=\u001b[39;49m\u001b[38;5;28;43mself\u001b[39;49m\u001b[38;5;241;43m.\u001b[39;49m\u001b[43minterface\u001b[49m\u001b[43m,\u001b[49m\n\u001b[0;32m   1044\u001b[0m \u001b[43m    \u001b[49m\u001b[43mtransform_program\u001b[49m\u001b[38;5;241;43m=\u001b[39;49m\u001b[43mfull_transform_program\u001b[49m\u001b[43m,\u001b[49m\n\u001b[0;32m   1045\u001b[0m \u001b[43m    \u001b[49m\u001b[43mconfig\u001b[49m\u001b[38;5;241;43m=\u001b[39;49m\u001b[43mconfig\u001b[49m\u001b[43m,\u001b[49m\n\u001b[0;32m   1046\u001b[0m \u001b[43m    \u001b[49m\u001b[43mgradient_kwargs\u001b[49m\u001b[38;5;241;43m=\u001b[39;49m\u001b[38;5;28;43mself\u001b[39;49m\u001b[38;5;241;43m.\u001b[39;49m\u001b[43mgradient_kwargs\u001b[49m\u001b[43m,\u001b[49m\n\u001b[0;32m   1047\u001b[0m \u001b[43m    \u001b[49m\u001b[43moverride_shots\u001b[49m\u001b[38;5;241;43m=\u001b[39;49m\u001b[43moverride_shots\u001b[49m\u001b[43m,\u001b[49m\n\u001b[0;32m   1048\u001b[0m \u001b[43m    \u001b[49m\u001b[38;5;241;43m*\u001b[39;49m\u001b[38;5;241;43m*\u001b[39;49m\u001b[38;5;28;43mself\u001b[39;49m\u001b[38;5;241;43m.\u001b[39;49m\u001b[43mexecute_kwargs\u001b[49m\u001b[43m,\u001b[49m\n\u001b[0;32m   1049\u001b[0m \u001b[43m\u001b[49m\u001b[43m)\u001b[49m\n\u001b[0;32m   1051\u001b[0m res \u001b[38;5;241m=\u001b[39m res[\u001b[38;5;241m0\u001b[39m]\n\u001b[0;32m   1053\u001b[0m \u001b[38;5;66;03m# convert result to the interface in case the qfunc has no parameters\u001b[39;00m\n",
      "File \u001b[1;32mc:\\Users\\wlsgu\\AppData\\Local\\Programs\\Python\\Python312\\Lib\\site-packages\\pennylane\\interfaces\\execution.py:808\u001b[0m, in \u001b[0;36mexecute\u001b[1;34m(tapes, device, gradient_fn, interface, transform_program, config, grad_on_execution, gradient_kwargs, cache, cachesize, max_diff, override_shots, expand_fn, max_expansion, device_batch_transform, device_vjp)\u001b[0m\n\u001b[0;32m    803\u001b[0m ml_boundary_execute \u001b[38;5;241m=\u001b[39m _get_ml_boundary_execute(\n\u001b[0;32m    804\u001b[0m     interface, _grad_on_execution, config\u001b[38;5;241m.\u001b[39muse_device_jacobian_product\n\u001b[0;32m    805\u001b[0m )\n\u001b[0;32m    807\u001b[0m \u001b[38;5;28;01mif\u001b[39;00m interface \u001b[38;5;129;01min\u001b[39;00m jpc_interfaces:\n\u001b[1;32m--> 808\u001b[0m     results \u001b[38;5;241m=\u001b[39m \u001b[43mml_boundary_execute\u001b[49m\u001b[43m(\u001b[49m\u001b[43mtapes\u001b[49m\u001b[43m,\u001b[49m\u001b[43m \u001b[49m\u001b[43mexecute_fn\u001b[49m\u001b[43m,\u001b[49m\u001b[43m \u001b[49m\u001b[43mjpc\u001b[49m\u001b[43m,\u001b[49m\u001b[43m \u001b[49m\u001b[43mdevice\u001b[49m\u001b[38;5;241;43m=\u001b[39;49m\u001b[43mdevice\u001b[49m\u001b[43m)\u001b[49m\n\u001b[0;32m    809\u001b[0m \u001b[38;5;28;01melse\u001b[39;00m:\n\u001b[0;32m    810\u001b[0m     results \u001b[38;5;241m=\u001b[39m ml_boundary_execute(\n\u001b[0;32m    811\u001b[0m         tapes, device, execute_fn, gradient_fn, gradient_kwargs, _n\u001b[38;5;241m=\u001b[39m\u001b[38;5;241m1\u001b[39m, max_diff\u001b[38;5;241m=\u001b[39mmax_diff\n\u001b[0;32m    812\u001b[0m     )\n",
      "File \u001b[1;32mc:\\Users\\wlsgu\\AppData\\Local\\Programs\\Python\\Python312\\Lib\\site-packages\\pennylane\\interfaces\\torch.py:235\u001b[0m, in \u001b[0;36mexecute\u001b[1;34m(tapes, execute_fn, jpc, device)\u001b[0m\n\u001b[0;32m    227\u001b[0m     parameters\u001b[38;5;241m.\u001b[39mextend(tape\u001b[38;5;241m.\u001b[39mget_parameters())\n\u001b[0;32m    229\u001b[0m kwargs \u001b[38;5;241m=\u001b[39m {\n\u001b[0;32m    230\u001b[0m     \u001b[38;5;124m\"\u001b[39m\u001b[38;5;124mtapes\u001b[39m\u001b[38;5;124m\"\u001b[39m: \u001b[38;5;28mtuple\u001b[39m(tapes),\n\u001b[0;32m    231\u001b[0m     \u001b[38;5;124m\"\u001b[39m\u001b[38;5;124mexecute_fn\u001b[39m\u001b[38;5;124m\"\u001b[39m: execute_fn,\n\u001b[0;32m    232\u001b[0m     \u001b[38;5;124m\"\u001b[39m\u001b[38;5;124mjpc\u001b[39m\u001b[38;5;124m\"\u001b[39m: jpc,\n\u001b[0;32m    233\u001b[0m }\n\u001b[1;32m--> 235\u001b[0m \u001b[38;5;28;01mreturn\u001b[39;00m \u001b[43mExecuteTapes\u001b[49m\u001b[38;5;241;43m.\u001b[39;49m\u001b[43mapply\u001b[49m\u001b[43m(\u001b[49m\u001b[43mkwargs\u001b[49m\u001b[43m,\u001b[49m\u001b[43m \u001b[49m\u001b[38;5;241;43m*\u001b[39;49m\u001b[43mparameters\u001b[49m\u001b[43m)\u001b[49m\n",
      "File \u001b[1;32mc:\\Users\\wlsgu\\AppData\\Local\\Programs\\Python\\Python312\\Lib\\site-packages\\pennylane\\interfaces\\torch.py:90\u001b[0m, in \u001b[0;36mpytreeify.<locals>.new_apply\u001b[1;34m(*inp)\u001b[0m\n\u001b[0;32m     87\u001b[0m \u001b[38;5;28;01mdef\u001b[39;00m \u001b[38;5;21mnew_apply\u001b[39m(\u001b[38;5;241m*\u001b[39minp):\n\u001b[0;32m     88\u001b[0m     \u001b[38;5;66;03m# Inputs already flat\u001b[39;00m\n\u001b[0;32m     89\u001b[0m     out_struct_holder \u001b[38;5;241m=\u001b[39m []\n\u001b[1;32m---> 90\u001b[0m     flat_out \u001b[38;5;241m=\u001b[39m \u001b[43morig_apply\u001b[49m\u001b[43m(\u001b[49m\u001b[43mout_struct_holder\u001b[49m\u001b[43m,\u001b[49m\u001b[43m \u001b[49m\u001b[38;5;241;43m*\u001b[39;49m\u001b[43minp\u001b[49m\u001b[43m)\u001b[49m\n\u001b[0;32m     91\u001b[0m     \u001b[38;5;28;01mreturn\u001b[39;00m pytree\u001b[38;5;241m.\u001b[39mtree_unflatten(flat_out, out_struct_holder[\u001b[38;5;241m0\u001b[39m])\n",
      "File \u001b[1;32mc:\\Users\\wlsgu\\AppData\\Local\\Programs\\Python\\Python312\\Lib\\site-packages\\torch\\autograd\\function.py:553\u001b[0m, in \u001b[0;36mFunction.apply\u001b[1;34m(cls, *args, **kwargs)\u001b[0m\n\u001b[0;32m    550\u001b[0m \u001b[38;5;28;01mif\u001b[39;00m \u001b[38;5;129;01mnot\u001b[39;00m torch\u001b[38;5;241m.\u001b[39m_C\u001b[38;5;241m.\u001b[39m_are_functorch_transforms_active():\n\u001b[0;32m    551\u001b[0m     \u001b[38;5;66;03m# See NOTE: [functorch vjp and autograd interaction]\u001b[39;00m\n\u001b[0;32m    552\u001b[0m     args \u001b[38;5;241m=\u001b[39m _functorch\u001b[38;5;241m.\u001b[39mutils\u001b[38;5;241m.\u001b[39munwrap_dead_wrappers(args)\n\u001b[1;32m--> 553\u001b[0m     \u001b[38;5;28;01mreturn\u001b[39;00m \u001b[38;5;28;43msuper\u001b[39;49m\u001b[43m(\u001b[49m\u001b[43m)\u001b[49m\u001b[38;5;241;43m.\u001b[39;49m\u001b[43mapply\u001b[49m\u001b[43m(\u001b[49m\u001b[38;5;241;43m*\u001b[39;49m\u001b[43margs\u001b[49m\u001b[43m,\u001b[49m\u001b[43m \u001b[49m\u001b[38;5;241;43m*\u001b[39;49m\u001b[38;5;241;43m*\u001b[39;49m\u001b[43mkwargs\u001b[49m\u001b[43m)\u001b[49m  \u001b[38;5;66;03m# type: ignore[misc]\u001b[39;00m\n\u001b[0;32m    555\u001b[0m \u001b[38;5;28;01mif\u001b[39;00m \u001b[38;5;129;01mnot\u001b[39;00m is_setup_ctx_defined:\n\u001b[0;32m    556\u001b[0m     \u001b[38;5;28;01mraise\u001b[39;00m \u001b[38;5;167;01mRuntimeError\u001b[39;00m(\n\u001b[0;32m    557\u001b[0m         \u001b[38;5;124m\"\u001b[39m\u001b[38;5;124mIn order to use an autograd.Function with functorch transforms \u001b[39m\u001b[38;5;124m\"\u001b[39m\n\u001b[0;32m    558\u001b[0m         \u001b[38;5;124m\"\u001b[39m\u001b[38;5;124m(vmap, grad, jvp, jacrev, ...), it must override the setup_context \u001b[39m\u001b[38;5;124m\"\u001b[39m\n\u001b[0;32m    559\u001b[0m         \u001b[38;5;124m\"\u001b[39m\u001b[38;5;124mstaticmethod. For more details, please see \u001b[39m\u001b[38;5;124m\"\u001b[39m\n\u001b[0;32m    560\u001b[0m         \u001b[38;5;124m\"\u001b[39m\u001b[38;5;124mhttps://pytorch.org/docs/master/notes/extending.func.html\u001b[39m\u001b[38;5;124m\"\u001b[39m\n\u001b[0;32m    561\u001b[0m     )\n",
      "File \u001b[1;32mc:\\Users\\wlsgu\\AppData\\Local\\Programs\\Python\\Python312\\Lib\\site-packages\\pennylane\\interfaces\\torch.py:94\u001b[0m, in \u001b[0;36mpytreeify.<locals>.new_forward\u001b[1;34m(ctx, out_struct_holder, *inp)\u001b[0m\n\u001b[0;32m     93\u001b[0m \u001b[38;5;28;01mdef\u001b[39;00m \u001b[38;5;21mnew_forward\u001b[39m(ctx, out_struct_holder, \u001b[38;5;241m*\u001b[39minp):\n\u001b[1;32m---> 94\u001b[0m     out \u001b[38;5;241m=\u001b[39m \u001b[43morig_fw\u001b[49m\u001b[43m(\u001b[49m\u001b[43mctx\u001b[49m\u001b[43m,\u001b[49m\u001b[43m \u001b[49m\u001b[38;5;241;43m*\u001b[39;49m\u001b[43minp\u001b[49m\u001b[43m)\u001b[49m\n\u001b[0;32m     95\u001b[0m     flat_out, out_struct \u001b[38;5;241m=\u001b[39m pytree\u001b[38;5;241m.\u001b[39mtree_flatten(out)\n\u001b[0;32m     96\u001b[0m     ctx\u001b[38;5;241m.\u001b[39m_out_struct \u001b[38;5;241m=\u001b[39m out_struct\n",
      "File \u001b[1;32mc:\\Users\\wlsgu\\AppData\\Local\\Programs\\Python\\Python312\\Lib\\site-packages\\pennylane\\interfaces\\torch.py:159\u001b[0m, in \u001b[0;36mExecuteTapes.forward\u001b[1;34m(ctx, kwargs, *parameters)\u001b[0m\n\u001b[0;32m    156\u001b[0m ctx\u001b[38;5;241m.\u001b[39mtapes \u001b[38;5;241m=\u001b[39m kwargs[\u001b[38;5;124m\"\u001b[39m\u001b[38;5;124mtapes\u001b[39m\u001b[38;5;124m\"\u001b[39m]\n\u001b[0;32m    157\u001b[0m ctx\u001b[38;5;241m.\u001b[39mjpc \u001b[38;5;241m=\u001b[39m kwargs[\u001b[38;5;124m\"\u001b[39m\u001b[38;5;124mjpc\u001b[39m\u001b[38;5;124m\"\u001b[39m]\n\u001b[1;32m--> 159\u001b[0m res \u001b[38;5;241m=\u001b[39m \u001b[38;5;28mtuple\u001b[39m(\u001b[43mkwargs\u001b[49m\u001b[43m[\u001b[49m\u001b[38;5;124;43m\"\u001b[39;49m\u001b[38;5;124;43mexecute_fn\u001b[39;49m\u001b[38;5;124;43m\"\u001b[39;49m\u001b[43m]\u001b[49m\u001b[43m(\u001b[49m\u001b[43mctx\u001b[49m\u001b[38;5;241;43m.\u001b[39;49m\u001b[43mtapes\u001b[49m\u001b[43m)\u001b[49m)\n\u001b[0;32m    161\u001b[0m \u001b[38;5;66;03m# if any input tensor uses the GPU, the output should as well\u001b[39;00m\n\u001b[0;32m    162\u001b[0m ctx\u001b[38;5;241m.\u001b[39mtorch_device \u001b[38;5;241m=\u001b[39m \u001b[38;5;28;01mNone\u001b[39;00m\n",
      "File \u001b[1;32mc:\\Users\\wlsgu\\AppData\\Local\\Programs\\Python\\Python312\\Lib\\site-packages\\pennylane\\interfaces\\execution.py:261\u001b[0m, in \u001b[0;36m_make_inner_execute.<locals>.inner_execute\u001b[1;34m(tapes, **_)\u001b[0m\n\u001b[0;32m    259\u001b[0m \u001b[38;5;28;01mif\u001b[39;00m numpy_only:\n\u001b[0;32m    260\u001b[0m     tapes \u001b[38;5;241m=\u001b[39m \u001b[38;5;28mtuple\u001b[39m(qml\u001b[38;5;241m.\u001b[39mtransforms\u001b[38;5;241m.\u001b[39mconvert_to_numpy_parameters(t) \u001b[38;5;28;01mfor\u001b[39;00m t \u001b[38;5;129;01min\u001b[39;00m tapes)\n\u001b[1;32m--> 261\u001b[0m \u001b[38;5;28;01mreturn\u001b[39;00m \u001b[43mcached_device_execution\u001b[49m\u001b[43m(\u001b[49m\u001b[43mtapes\u001b[49m\u001b[43m)\u001b[49m\n",
      "File \u001b[1;32mc:\\Users\\wlsgu\\AppData\\Local\\Programs\\Python\\Python312\\Lib\\site-packages\\pennylane\\interfaces\\execution.py:383\u001b[0m, in \u001b[0;36mcache_execute.<locals>.wrapper\u001b[1;34m(tapes, **kwargs)\u001b[0m\n\u001b[0;32m    378\u001b[0m         \u001b[38;5;28;01mreturn\u001b[39;00m (res, []) \u001b[38;5;28;01mif\u001b[39;00m return_tuple \u001b[38;5;28;01melse\u001b[39;00m res\n\u001b[0;32m    380\u001b[0m \u001b[38;5;28;01melse\u001b[39;00m:\n\u001b[0;32m    381\u001b[0m     \u001b[38;5;66;03m# execute all unique tapes that do not exist in the cache\u001b[39;00m\n\u001b[0;32m    382\u001b[0m     \u001b[38;5;66;03m# convert to list as new device interface returns a tuple\u001b[39;00m\n\u001b[1;32m--> 383\u001b[0m     res \u001b[38;5;241m=\u001b[39m \u001b[38;5;28mlist\u001b[39m(\u001b[43mfn\u001b[49m\u001b[43m(\u001b[49m\u001b[38;5;28;43mtuple\u001b[39;49m\u001b[43m(\u001b[49m\u001b[43mexecution_tapes\u001b[49m\u001b[38;5;241;43m.\u001b[39;49m\u001b[43mvalues\u001b[49m\u001b[43m(\u001b[49m\u001b[43m)\u001b[49m\u001b[43m)\u001b[49m\u001b[43m,\u001b[49m\u001b[43m \u001b[49m\u001b[38;5;241;43m*\u001b[39;49m\u001b[38;5;241;43m*\u001b[39;49m\u001b[43mkwargs\u001b[49m\u001b[43m)\u001b[49m)\n\u001b[0;32m    385\u001b[0m final_res \u001b[38;5;241m=\u001b[39m []\n\u001b[0;32m    387\u001b[0m \u001b[38;5;28;01mfor\u001b[39;00m i, tape \u001b[38;5;129;01min\u001b[39;00m \u001b[38;5;28menumerate\u001b[39m(tapes):\n",
      "File \u001b[1;32mc:\\Users\\wlsgu\\AppData\\Local\\Programs\\Python\\Python312\\Lib\\contextlib.py:81\u001b[0m, in \u001b[0;36mContextDecorator.__call__.<locals>.inner\u001b[1;34m(*args, **kwds)\u001b[0m\n\u001b[0;32m     78\u001b[0m \u001b[38;5;129m@wraps\u001b[39m(func)\n\u001b[0;32m     79\u001b[0m \u001b[38;5;28;01mdef\u001b[39;00m \u001b[38;5;21minner\u001b[39m(\u001b[38;5;241m*\u001b[39margs, \u001b[38;5;241m*\u001b[39m\u001b[38;5;241m*\u001b[39mkwds):\n\u001b[0;32m     80\u001b[0m     \u001b[38;5;28;01mwith\u001b[39;00m \u001b[38;5;28mself\u001b[39m\u001b[38;5;241m.\u001b[39m_recreate_cm():\n\u001b[1;32m---> 81\u001b[0m         \u001b[38;5;28;01mreturn\u001b[39;00m \u001b[43mfunc\u001b[49m\u001b[43m(\u001b[49m\u001b[38;5;241;43m*\u001b[39;49m\u001b[43margs\u001b[49m\u001b[43m,\u001b[49m\u001b[43m \u001b[49m\u001b[38;5;241;43m*\u001b[39;49m\u001b[38;5;241;43m*\u001b[39;49m\u001b[43mkwds\u001b[49m\u001b[43m)\u001b[49m\n",
      "File \u001b[1;32mc:\\Users\\wlsgu\\AppData\\Local\\Programs\\Python\\Python312\\Lib\\site-packages\\pennylane\\_qubit_device.py:459\u001b[0m, in \u001b[0;36mQubitDevice.batch_execute\u001b[1;34m(self, circuits)\u001b[0m\n\u001b[0;32m    454\u001b[0m \u001b[38;5;28;01mfor\u001b[39;00m circuit \u001b[38;5;129;01min\u001b[39;00m circuits:\n\u001b[0;32m    455\u001b[0m     \u001b[38;5;66;03m# we need to reset the device here, else it will\u001b[39;00m\n\u001b[0;32m    456\u001b[0m     \u001b[38;5;66;03m# not start the next computation in the zero state\u001b[39;00m\n\u001b[0;32m    457\u001b[0m     \u001b[38;5;28mself\u001b[39m\u001b[38;5;241m.\u001b[39mreset()\n\u001b[1;32m--> 459\u001b[0m     res \u001b[38;5;241m=\u001b[39m \u001b[38;5;28;43mself\u001b[39;49m\u001b[38;5;241;43m.\u001b[39;49m\u001b[43mexecute\u001b[49m\u001b[43m(\u001b[49m\u001b[43mcircuit\u001b[49m\u001b[43m)\u001b[49m\n\u001b[0;32m    460\u001b[0m     results\u001b[38;5;241m.\u001b[39mappend(res)\n\u001b[0;32m    462\u001b[0m \u001b[38;5;28;01mif\u001b[39;00m \u001b[38;5;28mself\u001b[39m\u001b[38;5;241m.\u001b[39mtracker\u001b[38;5;241m.\u001b[39mactive:\n",
      "File \u001b[1;32mc:\\Users\\wlsgu\\AppData\\Local\\Programs\\Python\\Python312\\Lib\\site-packages\\pennylane\\_qubit_device.py:289\u001b[0m, in \u001b[0;36mQubitDevice.execute\u001b[1;34m(self, circuit, **kwargs)\u001b[0m\n\u001b[0;32m    286\u001b[0m     results \u001b[38;5;241m=\u001b[39m \u001b[38;5;28mself\u001b[39m\u001b[38;5;241m.\u001b[39mshot_vec_statistics(circuit)\n\u001b[0;32m    288\u001b[0m \u001b[38;5;28;01melse\u001b[39;00m:\n\u001b[1;32m--> 289\u001b[0m     results \u001b[38;5;241m=\u001b[39m \u001b[38;5;28;43mself\u001b[39;49m\u001b[38;5;241;43m.\u001b[39;49m\u001b[43mstatistics\u001b[49m\u001b[43m(\u001b[49m\u001b[43mcircuit\u001b[49m\u001b[43m)\u001b[49m\n\u001b[0;32m    290\u001b[0m     single_measurement \u001b[38;5;241m=\u001b[39m \u001b[38;5;28mlen\u001b[39m(circuit\u001b[38;5;241m.\u001b[39mmeasurements) \u001b[38;5;241m==\u001b[39m \u001b[38;5;241m1\u001b[39m\n\u001b[0;32m    292\u001b[0m     results \u001b[38;5;241m=\u001b[39m results[\u001b[38;5;241m0\u001b[39m] \u001b[38;5;28;01mif\u001b[39;00m single_measurement \u001b[38;5;28;01melse\u001b[39;00m \u001b[38;5;28mtuple\u001b[39m(results)\n",
      "File \u001b[1;32mc:\\Users\\wlsgu\\AppData\\Local\\Programs\\Python\\Python312\\Lib\\site-packages\\pennylane\\_qubit_device.py:662\u001b[0m, in \u001b[0;36mQubitDevice.statistics\u001b[1;34m(self, circuit, shot_range, bin_size)\u001b[0m\n\u001b[0;32m    653\u001b[0m         warnings\u001b[38;5;241m.\u001b[39mwarn(\n\u001b[0;32m    654\u001b[0m             \u001b[38;5;124m\"\u001b[39m\u001b[38;5;124mRequested state or density matrix with finite shots; the returned \u001b[39m\u001b[38;5;124m\"\u001b[39m\n\u001b[0;32m    655\u001b[0m             \u001b[38;5;124m\"\u001b[39m\u001b[38;5;124mstate information is analytic and is unaffected by sampling. To silence \u001b[39m\u001b[38;5;124m\"\u001b[39m\n\u001b[0;32m    656\u001b[0m             \u001b[38;5;124m\"\u001b[39m\u001b[38;5;124mthis warning, set shots=None on the device.\u001b[39m\u001b[38;5;124m\"\u001b[39m,\n\u001b[0;32m    657\u001b[0m             \u001b[38;5;167;01mUserWarning\u001b[39;00m,\n\u001b[0;32m    658\u001b[0m         )\n\u001b[0;32m    660\u001b[0m     \u001b[38;5;66;03m# Check if the state is accessible and decide to return the state or the density\u001b[39;00m\n\u001b[0;32m    661\u001b[0m     \u001b[38;5;66;03m# matrix.\u001b[39;00m\n\u001b[1;32m--> 662\u001b[0m     state \u001b[38;5;241m=\u001b[39m \u001b[38;5;28;43mself\u001b[39;49m\u001b[38;5;241;43m.\u001b[39;49m\u001b[43maccess_state\u001b[49m\u001b[43m(\u001b[49m\u001b[43mwires\u001b[49m\u001b[38;5;241;43m=\u001b[39;49m\u001b[43mobs\u001b[49m\u001b[38;5;241;43m.\u001b[39;49m\u001b[43mwires\u001b[49m\u001b[43m)\u001b[49m\n\u001b[0;32m    663\u001b[0m     result \u001b[38;5;241m=\u001b[39m \u001b[38;5;28mself\u001b[39m\u001b[38;5;241m.\u001b[39m_asarray(state, dtype\u001b[38;5;241m=\u001b[39m\u001b[38;5;28mself\u001b[39m\u001b[38;5;241m.\u001b[39mC_DTYPE)\n\u001b[0;32m    665\u001b[0m \u001b[38;5;28;01melif\u001b[39;00m \u001b[38;5;28misinstance\u001b[39m(m, VnEntropyMP):\n",
      "File \u001b[1;32mc:\\Users\\wlsgu\\AppData\\Local\\Programs\\Python\\Python312\\Lib\\site-packages\\pennylane\\_qubit_device.py:783\u001b[0m, in \u001b[0;36mQubitDevice.access_state\u001b[1;34m(self, wires)\u001b[0m\n\u001b[0;32m    771\u001b[0m \u001b[38;5;250m\u001b[39m\u001b[38;5;124;03m\"\"\"Check that the device has access to an internal state and return it if available.\u001b[39;00m\n\u001b[0;32m    772\u001b[0m \n\u001b[0;32m    773\u001b[0m \u001b[38;5;124;03mArgs:\u001b[39;00m\n\u001b[1;32m   (...)\u001b[0m\n\u001b[0;32m    780\u001b[0m \u001b[38;5;124;03m    array or tensor: the state or the density matrix of the device\u001b[39;00m\n\u001b[0;32m    781\u001b[0m \u001b[38;5;124;03m\"\"\"\u001b[39;00m\n\u001b[0;32m    782\u001b[0m \u001b[38;5;28;01mif\u001b[39;00m \u001b[38;5;129;01mnot\u001b[39;00m \u001b[38;5;28mself\u001b[39m\u001b[38;5;241m.\u001b[39mcapabilities()\u001b[38;5;241m.\u001b[39mget(\u001b[38;5;124m\"\u001b[39m\u001b[38;5;124mreturns_state\u001b[39m\u001b[38;5;124m\"\u001b[39m):\n\u001b[1;32m--> 783\u001b[0m     \u001b[38;5;28;01mraise\u001b[39;00m qml\u001b[38;5;241m.\u001b[39mQuantumFunctionError(\n\u001b[0;32m    784\u001b[0m         \u001b[38;5;124m\"\u001b[39m\u001b[38;5;124mThe current device is not capable of returning the state\u001b[39m\u001b[38;5;124m\"\u001b[39m\n\u001b[0;32m    785\u001b[0m     )\n\u001b[0;32m    787\u001b[0m state \u001b[38;5;241m=\u001b[39m \u001b[38;5;28mgetattr\u001b[39m(\u001b[38;5;28mself\u001b[39m, \u001b[38;5;124m\"\u001b[39m\u001b[38;5;124mstate\u001b[39m\u001b[38;5;124m\"\u001b[39m, \u001b[38;5;28;01mNone\u001b[39;00m)\n\u001b[0;32m    789\u001b[0m \u001b[38;5;28;01mif\u001b[39;00m state \u001b[38;5;129;01mis\u001b[39;00m \u001b[38;5;28;01mNone\u001b[39;00m:\n",
      "\u001b[1;31mQuantumFunctionError\u001b[0m: The current device is not capable of returning the state"
     ]
    }
   ],
   "source": [
    "expect_E = main_circuit(w,C1,num_of_layers)\n",
    "expect_E = np.sum(torch.tensor(expect_E).numpy())\n",
    "state_f = state_vec()\n",
    "ans=0\n",
    "result = []\n",
    "print(\"expectation value of energy : \",expect_E)"
   ]
  },
  {
   "cell_type": "code",
   "execution_count": null,
   "metadata": {},
   "outputs": [
    {
     "name": "stdout",
     "output_type": "stream",
     "text": [
      "100010000010100is ground state with probability 0.18278855743951972\n",
      "100010000100100is ground state with probability 0.3975903214095142\n",
      "100010001000100is ground state with probability 0.27334536563558004\n"
     ]
    }
   ],
   "source": [
    "'''\n",
    "for i in range(2 ** (board_size * board_size)):\n",
    "    print(f\"probability of getting |{i}> :\",abs(state_f[i])**2)\n",
    "'''\n",
    "for i in range(2 ** (board_size * board_size)):\n",
    "    if abs(state_f[i]) ** 2 > 0.1:\n",
    "        result.append((bin(i)[2:], abs(state_f[i].item())**2))\n",
    "        print(format(i,'b')+\"is ground state with probability\",abs(state_f[i].item())**2)"
   ]
  },
  {
   "cell_type": "code",
   "execution_count": null,
   "metadata": {},
   "outputs": [
    {
     "name": "stdout",
     "output_type": "stream",
     "text": [
      "[('100010000100100', 0.3975903214095142), ('100010001000100', 0.27334536563558004), ('100010000010100', 0.18278855743951972)]\n"
     ]
    }
   ],
   "source": [
    "result.sort(key = lambda x:x[1])\n",
    "result = result [::-1]\n",
    "print(result)"
   ]
  },
  {
   "cell_type": "code",
   "execution_count": null,
   "metadata": {},
   "outputs": [
    {
     "name": "stdout",
     "output_type": "stream",
     "text": [
      "===========================\n",
      "□◆□□\n",
      "□◆□□\n",
      "□□◆□\n",
      "□◆□□\n",
      "===========================\n",
      "===========================\n",
      "□◆□□\n",
      "□◆□□\n",
      "□◆□□\n",
      "□◆□□\n",
      "===========================\n",
      "===========================\n",
      "□◆□□\n",
      "□◆□□\n",
      "□□□◆\n",
      "□◆□□\n",
      "===========================\n"
     ]
    }
   ],
   "source": [
    "def answer(result : dict):\n",
    "    n = C1.size\n",
    "    for e in result:\n",
    "      print('===========================')\n",
    "      ans = int(e[0])\n",
    "      coordinates = []\n",
    "      cnt = n * n - 1\n",
    "      while cnt >= 0:\n",
    "        if ans % 10 == 1:\n",
    "          coordinates.append([cnt // n, cnt % n])\n",
    "        cnt -= 1\n",
    "        ans //= 10\n",
    "      tempC = Chess(n, coordinates)\n",
    "      tempC.draw()\n",
    "      print('===========================')\n",
    "\n",
    "    '''\n",
    "    for ans in result:\n",
    "      temp_board  = [[0 for _ in range(n) for _ in range(n)]]\n",
    "      cnt = n ** 2 - 1\n",
    "      while cnt > 0:\n",
    "        i, j = cnt // n, cnt % n\n",
    "        temp_board[i][j] = ans % 10\n",
    "        ans //= 10\n",
    "        cnt -= 1\n",
    "    '''\n",
    "    return\n",
    "\n",
    "answer(result)"
   ]
  }
 ],
 "metadata": {
  "kernelspec": {
   "display_name": "Python 3",
   "language": "python",
   "name": "python3"
  },
  "language_info": {
   "codemirror_mode": {
    "name": "ipython",
    "version": 3
   },
   "file_extension": ".py",
   "mimetype": "text/x-python",
   "name": "python",
   "nbconvert_exporter": "python",
   "pygments_lexer": "ipython3",
   "version": "3.12.1"
  }
 },
 "nbformat": 4,
 "nbformat_minor": 2
}
